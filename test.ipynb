{
 "cells": [
  {
   "cell_type": "code",
   "execution_count": 11,
   "metadata": {},
   "outputs": [
    {
     "name": "stdout",
     "output_type": "stream",
     "text": [
      "[*********************100%***********************]  10 of 10 completed\n"
     ]
    },
    {
     "name": "stderr",
     "output_type": "stream",
     "text": [
      "2024-05-29 00:18:23,727 - INFO - From the initial 10 tickers, 10 were successfully downloaded and retained.\n"
     ]
    }
   ],
   "source": [
    "from AntFolio import download_data, get_tickers, train_test_split, get_pct_returns, get_cum_returns, get_log_returns, transform_to_uniform, benchmark_equal_weights, portfolio_pct_returns, portfolio_cum_returns, portfolio_log_returns\n",
    "\n",
    "ticker_df = get_tickers('nasdaq100')[:10]\n",
    "data, updated_tickers_df= download_data(ticker_df, '2020-01-01', '2021-01-01')\n",
    "train, test = train_test_split(data, train_start='2020-01-01', train_end='2020-12-01', test_start='2020-12-01', test_end='2021-01-01')\n",
    "\n",
    "pct_returns = get_pct_returns(train)\n",
    "cum_returns = get_cum_returns(train) \n",
    "log_returns = get_log_returns(train)\n",
    "uniform = transform_to_uniform(train)\n",
    "\n",
    "equal_weights = benchmark_equal_weights(updated_tickers_df)\n",
    "\n",
    "por_pct_returns = portfolio_pct_returns(train, updated_tickers_df, equal_weights)\n",
    "por_cum_returns = portfolio_cum_returns(train, updated_tickers_df, equal_weights)\n",
    "por_log_returns = portfolio_log_returns(train, updated_tickers_df, equal_weights)"
   ]
  },
  {
   "cell_type": "code",
   "execution_count": 15,
   "metadata": {},
   "outputs": [
    {
     "name": "stdout",
     "output_type": "stream",
     "text": [
      "Optimal Weights: [5.26625020e-17 7.72564730e-19 1.49490753e-16 0.00000000e+00\n",
      " 0.00000000e+00 0.00000000e+00 0.00000000e+00 0.00000000e+00\n",
      " 7.77156117e-16 1.00000000e+00]\n"
     ]
    }
   ],
   "source": [
    "from scipy.optimize import minimize\n",
    "import numpy as np\n",
    "\n",
    "def markowitz_optimization(train, updated_tickers_df, risk_free_rate=0.02):\n",
    "\n",
    "    cov_matrix = train.cov()\n",
    "    mean_returns = train.mean()\n",
    "    num_assets = len(updated_tickers_df)\n",
    "\n",
    "    def portfolio_performance(weights, mean_returns, cov_matrix, risk_free_rate):\n",
    "        returns = np.sum(mean_returns * weights)\n",
    "        volatility = np.sqrt(np.dot(weights.T, np.dot(cov_matrix, weights)))\n",
    "        sharpe_ratio = (returns - risk_free_rate) / volatility\n",
    "        return returns, volatility, sharpe_ratio\n",
    "\n",
    "    def negative_sharpe_ratio(weights, mean_returns, cov_matrix, risk_free_rate):\n",
    "        return -portfolio_performance(weights, mean_returns, cov_matrix, risk_free_rate)[2]\n",
    "\n",
    "    constraints = {'type': 'eq', 'fun': lambda weights: np.sum(weights) - 1}\n",
    "    bounds = tuple((0, 1) for asset in range(num_assets))\n",
    "    initial_guess = num_assets * [1. / num_assets]\n",
    "\n",
    "    result = minimize(negative_sharpe_ratio, initial_guess, args=(mean_returns, cov_matrix, risk_free_rate),\n",
    "                      method='SLSQP', bounds=bounds, constraints=constraints)\n",
    "    \n",
    "    optimal_weights = result.x\n",
    "\n",
    "    returns, volatility, sharpe_ratio = portfolio_performance(optimal_weights, mean_returns, cov_matrix, risk_free_rate)\n",
    "    \n",
    "    portfolio_performance = {\n",
    "        'Expected Return': returns,\n",
    "        'Volatility': volatility,\n",
    "        'Sharpe Ratio': sharpe_ratio\n",
    "    }\n",
    "\n",
    "    return optimal_weights, portfolio_performance\n",
    "\n",
    "# Example usage:\n",
    "optimal_weights, portfolio_performance = markowitz_optimization(pct_returns, updated_tickers_df) \n",
    "print(\"Optimal Weights:\", optimal_weights)\n",
    "#print(\"Portfolio Performance:\", portfolio_performance)\n"
   ]
  },
  {
   "cell_type": "code",
   "execution_count": null,
   "metadata": {},
   "outputs": [],
   "source": [
    "mpt_cum_returns = portfolio_cum_returns(train, updated_tickers_df, optimal_weights)\n",
    "equal_cum_returns = portfolio_cum_returns(train, updated_tickers_df, equal_weights)\n",
    "\n"
   ]
  }
 ],
 "metadata": {
  "kernelspec": {
   "display_name": "Python 3",
   "language": "python",
   "name": "python3"
  },
  "language_info": {
   "codemirror_mode": {
    "name": "ipython",
    "version": 3
   },
   "file_extension": ".py",
   "mimetype": "text/x-python",
   "name": "python",
   "nbconvert_exporter": "python",
   "pygments_lexer": "ipython3",
   "version": "3.11.4"
  }
 },
 "nbformat": 4,
 "nbformat_minor": 2
}
