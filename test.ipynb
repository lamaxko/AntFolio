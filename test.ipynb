{
 "cells": [
  {
   "cell_type": "code",
   "execution_count": 1,
   "metadata": {},
   "outputs": [
    {
     "name": "stdout",
     "output_type": "stream",
     "text": [
      "[*********************100%***********************]  10 of 10 completed"
     ]
    },
    {
     "name": "stderr",
     "output_type": "stream",
     "text": [
      "2024-05-28 17:59:13,368 - INFO - From the initial 10 tickers, 10 were successfully downloaded and retained.\n"
     ]
    },
    {
     "name": "stdout",
     "output_type": "stream",
     "text": [
      "\n"
     ]
    }
   ],
   "source": [
    "from AntFolio import download_data, get_tickers, train_test_split, get_pct_returns, get_cum_returns, get_log_returns, transform_to_uniform, benchmark_equal_weights, portfolio_pct_returns, portfolio_cum_returns, portfolio_log_returns\n",
    "\n",
    "ticker_df = get_tickers('nasdaq100')[:10]\n",
    "data, updated_tickers_df= download_data(ticker_df, '2020-01-01', '2021-01-01')\n",
    "train, test = train_test_split(data, train_start='2020-01-01', train_end='2020-12-01', test_start='2020-12-01', test_end='2021-01-01')\n",
    "\n",
    "pct_returns = get_pct_returns(train)\n",
    "cum_returns = get_cum_returns(train) \n",
    "log_returns = get_log_returns(train)\n",
    "uniform = transform_to_uniform(train)\n",
    "\n",
    "equal_weights = benchmark_equal_weights(updated_tickers_df)\n",
    "\n",
    "por_pct_returns = portfolio_pct_returns(train, updated_tickers_df, equal_weights)\n",
    "por_cum_returns = portfolio_cum_returns(train, updated_tickers_df, equal_weights)\n",
    "por_log_returns = portfolio_log_returns(train, updated_tickers_df, equal_weights)"
   ]
  }
 ],
 "metadata": {
  "kernelspec": {
   "display_name": "Python 3",
   "language": "python",
   "name": "python3"
  },
  "language_info": {
   "codemirror_mode": {
    "name": "ipython",
    "version": 3
   },
   "file_extension": ".py",
   "mimetype": "text/x-python",
   "name": "python",
   "nbconvert_exporter": "python",
   "pygments_lexer": "ipython3",
   "version": "3.11.4"
  }
 },
 "nbformat": 4,
 "nbformat_minor": 2
}
